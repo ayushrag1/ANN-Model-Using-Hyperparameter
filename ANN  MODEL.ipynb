{
 "cells": [
  {
   "cell_type": "code",
   "execution_count": 1,
   "metadata": {},
   "outputs": [
    {
     "name": "stdout",
     "output_type": "stream",
     "text": [
      "Our ANN Model\n"
     ]
    }
   ],
   "source": [
    "print(\"Our ANN Model\")"
   ]
  },
  {
   "cell_type": "code",
   "execution_count": 2,
   "metadata": {},
   "outputs": [],
   "source": [
    "import numpy as np\n",
    "import matplotlib.pyplot as plt\n",
    "import pandas as pd"
   ]
  },
  {
   "cell_type": "code",
   "execution_count": 3,
   "metadata": {},
   "outputs": [
    {
     "name": "stdout",
     "output_type": "stream",
     "text": [
      "Y 0       1\n",
      "1       0\n",
      "2       1\n",
      "3       0\n",
      "4       0\n",
      "       ..\n",
      "9995    0\n",
      "9996    0\n",
      "9997    1\n",
      "9998    1\n",
      "9999    0\n",
      "Name: Exited, Length: 10000, dtype: int64\n"
     ]
    }
   ],
   "source": [
    "dataset=pd.read_csv(\"D:\\pds_project\\Churn_Modelling.csv\")\n",
    "#print(dataset)\n",
    "x=dataset.iloc[:,3:13]# independant feature\n",
    "y=dataset.iloc[:,13]# dependant feature\n",
    "#print(\"X\",x)\n",
    "print(\"Y\",y)"
   ]
  },
  {
   "cell_type": "code",
   "execution_count": 4,
   "metadata": {},
   "outputs": [
    {
     "name": "stdout",
     "output_type": "stream",
     "text": [
      "      CreditScore  Age  Tenure    Balance  NumOfProducts  HasCrCard  \\\n",
      "0             619   42       2       0.00              1          1   \n",
      "1             608   41       1   83807.86              1          0   \n",
      "2             502   42       8  159660.80              3          1   \n",
      "3             699   39       1       0.00              2          0   \n",
      "4             850   43       2  125510.82              1          1   \n",
      "...           ...  ...     ...        ...            ...        ...   \n",
      "9995          771   39       5       0.00              2          1   \n",
      "9996          516   35      10   57369.61              1          1   \n",
      "9997          709   36       7       0.00              1          0   \n",
      "9998          772   42       3   75075.31              2          1   \n",
      "9999          792   28       4  130142.79              1          1   \n",
      "\n",
      "      IsActiveMember  EstimatedSalary  Germany  Spain  Male  \n",
      "0                  1        101348.88        0      0     0  \n",
      "1                  1        112542.58        0      1     0  \n",
      "2                  0        113931.57        0      0     0  \n",
      "3                  0         93826.63        0      0     0  \n",
      "4                  1         79084.10        0      1     0  \n",
      "...              ...              ...      ...    ...   ...  \n",
      "9995               0         96270.64        0      0     1  \n",
      "9996               1        101699.77        0      0     1  \n",
      "9997               1         42085.58        0      0     0  \n",
      "9998               0         92888.52        1      0     1  \n",
      "9999               0         38190.78        0      0     0  \n",
      "\n",
      "[10000 rows x 11 columns]\n"
     ]
    }
   ],
   "source": [
    "#create dummy features of Geography and Gender column of dataset\n",
    "geography=pd.get_dummies(x[\"Geography\"],drop_first=True)\n",
    "gender=pd.get_dummies(x[\"Gender\"],drop_first=True)\n",
    "#print(geography,gender)\n",
    "\n",
    "\n",
    "#Conctenate the data frame\n",
    "x=pd.concat([x,geography,gender],axis=1)\n",
    "#print(X)\n",
    "\n",
    "\n",
    "#Drop Unneccesary columns\n",
    "x=x.drop([\"Geography\",\"Gender\"],axis=1)\n",
    "print(x)"
   ]
  },
  {
   "cell_type": "code",
   "execution_count": 5,
   "metadata": {},
   "outputs": [],
   "source": [
    "#Splitting dataset into traning_set and test_set\n",
    "from sklearn.model_selection import train_test_split\n",
    "x_train,x_test,y_train,y_test=train_test_split(x,y,test_size=0.2,random_state=0)\n",
    "#print(x_train)\n",
    "\n",
    "\n",
    "#feature Scaling(minimizing)\n",
    "from sklearn.preprocessing import StandardScaler\n",
    "sc=StandardScaler()\n",
    "x_train=sc.fit_transform(x_train)\n",
    "x_test=sc.fit_transform(x_test)\n",
    "#print(x_train)\n"
   ]
  },
  {
   "cell_type": "code",
   "execution_count": 6,
   "metadata": {},
   "outputs": [
    {
     "name": "stdout",
     "output_type": "stream",
     "text": [
      "Model: \"sequential\"\n",
      "_________________________________________________________________\n",
      " Layer (type)                Output Shape              Param #   \n",
      "=================================================================\n",
      " dense (Dense)               (None, 6)                 72        \n",
      "                                                                 \n",
      " dense_1 (Dense)             (None, 6)                 42        \n",
      "                                                                 \n",
      " dense_2 (Dense)             (None, 1)                 7         \n",
      "                                                                 \n",
      "=================================================================\n",
      "Total params: 121\n",
      "Trainable params: 121\n",
      "Non-trainable params: 0\n",
      "_________________________________________________________________\n"
     ]
    }
   ],
   "source": [
    "import keras\n",
    "from keras.models import Sequential\n",
    "from keras.layers import Dense\n",
    "from keras.layers import Dropout\n",
    "\n",
    "\n",
    "#initializing the ANN model\n",
    "model=Sequential()\n",
    "#1 hidden layer\n",
    "model.add(Dense(units=6,kernel_initializer=\"he_uniform\",activation=\"relu\",input_dim=11))\n",
    "#2hidden layer\n",
    "model.add(Dense(units=6,kernel_initializer=\"he_uniform\",activation=\"relu\"))\n",
    "#output layer\n",
    "model.add(Dense(units=1,kernel_initializer=\"glorot_uniform\",activation=\"sigmoid\"))\n",
    "model.summary()\n",
    "\n"
   ]
  },
  {
   "cell_type": "code",
   "execution_count": 9,
   "metadata": {},
   "outputs": [
    {
     "name": "stdout",
     "output_type": "stream",
     "text": [
      "Epoch 1/100\n",
      "536/536 [==============================] - 11s 14ms/step - loss: 0.5462 - accuracy: 0.7757 - val_loss: 0.4836 - val_accuracy: 0.7959\n",
      "Epoch 2/100\n",
      "536/536 [==============================] - 7s 13ms/step - loss: 0.4627 - accuracy: 0.8013 - val_loss: 0.4389 - val_accuracy: 0.8137\n",
      "Epoch 3/100\n",
      "536/536 [==============================] - 7s 13ms/step - loss: 0.4260 - accuracy: 0.8186 - val_loss: 0.4186 - val_accuracy: 0.8145\n",
      "Epoch 4/100\n",
      "536/536 [==============================] - 7s 13ms/step - loss: 0.4119 - accuracy: 0.8242 - val_loss: 0.4125 - val_accuracy: 0.8167\n",
      "Epoch 5/100\n",
      "536/536 [==============================] - 7s 13ms/step - loss: 0.4054 - accuracy: 0.8259 - val_loss: 0.4075 - val_accuracy: 0.8205\n",
      "Epoch 6/100\n",
      "536/536 [==============================] - 7s 13ms/step - loss: 0.4012 - accuracy: 0.8281 - val_loss: 0.4052 - val_accuracy: 0.8239\n",
      "Epoch 7/100\n",
      "536/536 [==============================] - 7s 13ms/step - loss: 0.3977 - accuracy: 0.8272 - val_loss: 0.4028 - val_accuracy: 0.8247\n",
      "Epoch 8/100\n",
      "536/536 [==============================] - 7s 13ms/step - loss: 0.3946 - accuracy: 0.8289 - val_loss: 0.4003 - val_accuracy: 0.8266\n",
      "Epoch 9/100\n",
      "536/536 [==============================] - 7s 13ms/step - loss: 0.3917 - accuracy: 0.8266 - val_loss: 0.3975 - val_accuracy: 0.8262\n",
      "Epoch 10/100\n",
      "536/536 [==============================] - 7s 13ms/step - loss: 0.3889 - accuracy: 0.8280 - val_loss: 0.3956 - val_accuracy: 0.8270\n",
      "Epoch 11/100\n",
      "536/536 [==============================] - 7s 13ms/step - loss: 0.3853 - accuracy: 0.8302 - val_loss: 0.3926 - val_accuracy: 0.8285\n",
      "Epoch 12/100\n",
      "536/536 [==============================] - 7s 13ms/step - loss: 0.3816 - accuracy: 0.8309 - val_loss: 0.3874 - val_accuracy: 0.8345\n",
      "Epoch 13/100\n",
      "536/536 [==============================] - 7s 12ms/step - loss: 0.3755 - accuracy: 0.8423 - val_loss: 0.3827 - val_accuracy: 0.8444\n",
      "Epoch 14/100\n",
      "536/536 [==============================] - 7s 13ms/step - loss: 0.3688 - accuracy: 0.8477 - val_loss: 0.3783 - val_accuracy: 0.8444\n",
      "Epoch 15/100\n",
      "536/536 [==============================] - 7s 13ms/step - loss: 0.3623 - accuracy: 0.8513 - val_loss: 0.3752 - val_accuracy: 0.8470\n",
      "Epoch 16/100\n",
      "536/536 [==============================] - 7s 13ms/step - loss: 0.3587 - accuracy: 0.8526 - val_loss: 0.3709 - val_accuracy: 0.8535\n",
      "Epoch 17/100\n",
      "536/536 [==============================] - 7s 13ms/step - loss: 0.3556 - accuracy: 0.8567 - val_loss: 0.3700 - val_accuracy: 0.8501\n",
      "Epoch 18/100\n",
      "536/536 [==============================] - 7s 13ms/step - loss: 0.3529 - accuracy: 0.8563 - val_loss: 0.3680 - val_accuracy: 0.8501\n",
      "Epoch 19/100\n",
      "536/536 [==============================] - 7s 13ms/step - loss: 0.3500 - accuracy: 0.8559 - val_loss: 0.3674 - val_accuracy: 0.8508\n",
      "Epoch 20/100\n",
      "536/536 [==============================] - 7s 13ms/step - loss: 0.3469 - accuracy: 0.8576 - val_loss: 0.3643 - val_accuracy: 0.8512\n",
      "Epoch 21/100\n",
      "536/536 [==============================] - 7s 12ms/step - loss: 0.3455 - accuracy: 0.8586 - val_loss: 0.3669 - val_accuracy: 0.8508\n",
      "Epoch 22/100\n",
      "536/536 [==============================] - 7s 12ms/step - loss: 0.3427 - accuracy: 0.8591 - val_loss: 0.3641 - val_accuracy: 0.8519\n",
      "Epoch 23/100\n",
      "536/536 [==============================] - 7s 13ms/step - loss: 0.3418 - accuracy: 0.8600 - val_loss: 0.3613 - val_accuracy: 0.8531\n",
      "Epoch 24/100\n",
      "536/536 [==============================] - 7s 13ms/step - loss: 0.3405 - accuracy: 0.8580 - val_loss: 0.3608 - val_accuracy: 0.8538\n",
      "Epoch 25/100\n",
      "536/536 [==============================] - 7s 13ms/step - loss: 0.3383 - accuracy: 0.8589 - val_loss: 0.3637 - val_accuracy: 0.8493\n",
      "Epoch 26/100\n",
      "536/536 [==============================] - 7s 13ms/step - loss: 0.3377 - accuracy: 0.8612 - val_loss: 0.3593 - val_accuracy: 0.8512\n",
      "Epoch 27/100\n",
      "536/536 [==============================] - 7s 13ms/step - loss: 0.3372 - accuracy: 0.8587 - val_loss: 0.3596 - val_accuracy: 0.8538\n",
      "Epoch 28/100\n",
      "536/536 [==============================] - 7s 13ms/step - loss: 0.3366 - accuracy: 0.8589 - val_loss: 0.3602 - val_accuracy: 0.8493\n",
      "Epoch 29/100\n",
      "536/536 [==============================] - 7s 13ms/step - loss: 0.3360 - accuracy: 0.8610 - val_loss: 0.3578 - val_accuracy: 0.8512\n",
      "Epoch 30/100\n",
      "536/536 [==============================] - 7s 13ms/step - loss: 0.3349 - accuracy: 0.8608 - val_loss: 0.3583 - val_accuracy: 0.8516\n",
      "Epoch 31/100\n",
      "536/536 [==============================] - 7s 13ms/step - loss: 0.3341 - accuracy: 0.8606 - val_loss: 0.3592 - val_accuracy: 0.8516\n",
      "Epoch 32/100\n",
      "536/536 [==============================] - 7s 13ms/step - loss: 0.3342 - accuracy: 0.8614 - val_loss: 0.3567 - val_accuracy: 0.8561\n",
      "Epoch 33/100\n",
      "536/536 [==============================] - 7s 13ms/step - loss: 0.3335 - accuracy: 0.8606 - val_loss: 0.3579 - val_accuracy: 0.8527\n",
      "Epoch 34/100\n",
      "536/536 [==============================] - 7s 13ms/step - loss: 0.3335 - accuracy: 0.8614 - val_loss: 0.3582 - val_accuracy: 0.8512\n",
      "Epoch 35/100\n",
      "536/536 [==============================] - 7s 13ms/step - loss: 0.3335 - accuracy: 0.8612 - val_loss: 0.3572 - val_accuracy: 0.8501\n",
      "Epoch 36/100\n",
      "536/536 [==============================] - 7s 13ms/step - loss: 0.3327 - accuracy: 0.8628 - val_loss: 0.3566 - val_accuracy: 0.8519\n",
      "Epoch 37/100\n",
      "536/536 [==============================] - 7s 13ms/step - loss: 0.3327 - accuracy: 0.8608 - val_loss: 0.3557 - val_accuracy: 0.8546\n",
      "Epoch 38/100\n",
      "536/536 [==============================] - 7s 12ms/step - loss: 0.3325 - accuracy: 0.8619 - val_loss: 0.3563 - val_accuracy: 0.8561\n",
      "Epoch 39/100\n",
      "536/536 [==============================] - 7s 12ms/step - loss: 0.3319 - accuracy: 0.8619 - val_loss: 0.3573 - val_accuracy: 0.8504\n",
      "Epoch 40/100\n",
      "536/536 [==============================] - 7s 12ms/step - loss: 0.3317 - accuracy: 0.8623 - val_loss: 0.3576 - val_accuracy: 0.8554\n",
      "Epoch 41/100\n",
      "536/536 [==============================] - 7s 13ms/step - loss: 0.3315 - accuracy: 0.8630 - val_loss: 0.3549 - val_accuracy: 0.8557\n",
      "Epoch 42/100\n",
      "536/536 [==============================] - 7s 13ms/step - loss: 0.3308 - accuracy: 0.8628 - val_loss: 0.3564 - val_accuracy: 0.8508\n",
      "Epoch 43/100\n",
      "536/536 [==============================] - 7s 13ms/step - loss: 0.3308 - accuracy: 0.8625 - val_loss: 0.3558 - val_accuracy: 0.8531\n",
      "Epoch 44/100\n",
      "536/536 [==============================] - 7s 13ms/step - loss: 0.3309 - accuracy: 0.8645 - val_loss: 0.3546 - val_accuracy: 0.8565\n",
      "Epoch 45/100\n",
      "536/536 [==============================] - 7s 13ms/step - loss: 0.3308 - accuracy: 0.8634 - val_loss: 0.3553 - val_accuracy: 0.8542\n",
      "Epoch 46/100\n",
      "536/536 [==============================] - 7s 13ms/step - loss: 0.3297 - accuracy: 0.8630 - val_loss: 0.3563 - val_accuracy: 0.8519\n",
      "Epoch 47/100\n",
      "536/536 [==============================] - 7s 13ms/step - loss: 0.3299 - accuracy: 0.8627 - val_loss: 0.3555 - val_accuracy: 0.8542\n",
      "Epoch 48/100\n",
      "536/536 [==============================] - 7s 13ms/step - loss: 0.3303 - accuracy: 0.8630 - val_loss: 0.3570 - val_accuracy: 0.8519\n",
      "Epoch 49/100\n",
      "536/536 [==============================] - 7s 12ms/step - loss: 0.3296 - accuracy: 0.8651 - val_loss: 0.3566 - val_accuracy: 0.8504\n",
      "Epoch 50/100\n",
      "536/536 [==============================] - 7s 13ms/step - loss: 0.3292 - accuracy: 0.8630 - val_loss: 0.3560 - val_accuracy: 0.8538\n",
      "Epoch 51/100\n",
      "536/536 [==============================] - 7s 13ms/step - loss: 0.3290 - accuracy: 0.8658 - val_loss: 0.3563 - val_accuracy: 0.8550\n",
      "Epoch 52/100\n",
      "536/536 [==============================] - 7s 13ms/step - loss: 0.3296 - accuracy: 0.8643 - val_loss: 0.3566 - val_accuracy: 0.8550\n",
      "Epoch 53/100\n",
      "536/536 [==============================] - 7s 13ms/step - loss: 0.3288 - accuracy: 0.8615 - val_loss: 0.3554 - val_accuracy: 0.8546\n",
      "Epoch 54/100\n",
      "536/536 [==============================] - 7s 12ms/step - loss: 0.3295 - accuracy: 0.8619 - val_loss: 0.3557 - val_accuracy: 0.8546\n",
      "Epoch 55/100\n",
      "536/536 [==============================] - 7s 13ms/step - loss: 0.3288 - accuracy: 0.8621 - val_loss: 0.3580 - val_accuracy: 0.8531\n",
      "Epoch 56/100\n",
      "536/536 [==============================] - 7s 13ms/step - loss: 0.3286 - accuracy: 0.8625 - val_loss: 0.3562 - val_accuracy: 0.8531\n",
      "Epoch 57/100\n",
      "536/536 [==============================] - 7s 13ms/step - loss: 0.3294 - accuracy: 0.8636 - val_loss: 0.3561 - val_accuracy: 0.8523\n",
      "Epoch 58/100\n",
      "536/536 [==============================] - 7s 13ms/step - loss: 0.3291 - accuracy: 0.8612 - val_loss: 0.3559 - val_accuracy: 0.8523\n",
      "Epoch 59/100\n",
      "536/536 [==============================] - 7s 12ms/step - loss: 0.3289 - accuracy: 0.8628 - val_loss: 0.3550 - val_accuracy: 0.8557\n",
      "Epoch 60/100\n",
      "536/536 [==============================] - 7s 13ms/step - loss: 0.3287 - accuracy: 0.8656 - val_loss: 0.3578 - val_accuracy: 0.8546\n",
      "Epoch 61/100\n",
      "536/536 [==============================] - 7s 13ms/step - loss: 0.3284 - accuracy: 0.8612 - val_loss: 0.3547 - val_accuracy: 0.8565\n",
      "Epoch 62/100\n",
      "536/536 [==============================] - 7s 13ms/step - loss: 0.3287 - accuracy: 0.8634 - val_loss: 0.3564 - val_accuracy: 0.8542\n",
      "Epoch 63/100\n",
      "536/536 [==============================] - 7s 13ms/step - loss: 0.3279 - accuracy: 0.8630 - val_loss: 0.3562 - val_accuracy: 0.8519\n",
      "Epoch 64/100\n",
      "536/536 [==============================] - 7s 12ms/step - loss: 0.3285 - accuracy: 0.8627 - val_loss: 0.3557 - val_accuracy: 0.8565\n",
      "Epoch 65/100\n",
      "536/536 [==============================] - 7s 12ms/step - loss: 0.3281 - accuracy: 0.8608 - val_loss: 0.3564 - val_accuracy: 0.8573\n",
      "Epoch 66/100\n",
      "536/536 [==============================] - 7s 13ms/step - loss: 0.3283 - accuracy: 0.8642 - val_loss: 0.3559 - val_accuracy: 0.8565\n",
      "Epoch 67/100\n",
      "536/536 [==============================] - 7s 13ms/step - loss: 0.3280 - accuracy: 0.8612 - val_loss: 0.3558 - val_accuracy: 0.8542\n",
      "Epoch 68/100\n",
      "536/536 [==============================] - 7s 13ms/step - loss: 0.3277 - accuracy: 0.8666 - val_loss: 0.3569 - val_accuracy: 0.8516\n",
      "Epoch 69/100\n",
      "536/536 [==============================] - 7s 12ms/step - loss: 0.3276 - accuracy: 0.8628 - val_loss: 0.3564 - val_accuracy: 0.8557\n",
      "Epoch 70/100\n",
      "536/536 [==============================] - 7s 13ms/step - loss: 0.3284 - accuracy: 0.8619 - val_loss: 0.3560 - val_accuracy: 0.8557\n",
      "Epoch 71/100\n",
      "536/536 [==============================] - 7s 13ms/step - loss: 0.3276 - accuracy: 0.8640 - val_loss: 0.3552 - val_accuracy: 0.8565\n",
      "Epoch 72/100\n",
      "536/536 [==============================] - 7s 13ms/step - loss: 0.3275 - accuracy: 0.8628 - val_loss: 0.3566 - val_accuracy: 0.8523\n",
      "Epoch 73/100\n",
      "536/536 [==============================] - 7s 13ms/step - loss: 0.3276 - accuracy: 0.8647 - val_loss: 0.3556 - val_accuracy: 0.8565\n",
      "Epoch 74/100\n",
      "536/536 [==============================] - 7s 13ms/step - loss: 0.3276 - accuracy: 0.8621 - val_loss: 0.3569 - val_accuracy: 0.8523\n",
      "Epoch 75/100\n",
      "536/536 [==============================] - 7s 13ms/step - loss: 0.3274 - accuracy: 0.8647 - val_loss: 0.3559 - val_accuracy: 0.8561\n",
      "Epoch 76/100\n",
      "536/536 [==============================] - 7s 13ms/step - loss: 0.3266 - accuracy: 0.8630 - val_loss: 0.3560 - val_accuracy: 0.8554\n",
      "Epoch 77/100\n",
      "536/536 [==============================] - 7s 13ms/step - loss: 0.3274 - accuracy: 0.8610 - val_loss: 0.3564 - val_accuracy: 0.8538\n",
      "Epoch 78/100\n",
      "536/536 [==============================] - 7s 13ms/step - loss: 0.3274 - accuracy: 0.8612 - val_loss: 0.3555 - val_accuracy: 0.8554\n",
      "Epoch 79/100\n",
      "536/536 [==============================] - 7s 13ms/step - loss: 0.3271 - accuracy: 0.8619 - val_loss: 0.3556 - val_accuracy: 0.8550\n",
      "Epoch 80/100\n",
      "536/536 [==============================] - 7s 13ms/step - loss: 0.3269 - accuracy: 0.8636 - val_loss: 0.3550 - val_accuracy: 0.8546\n",
      "Epoch 81/100\n",
      "536/536 [==============================] - 7s 13ms/step - loss: 0.3267 - accuracy: 0.8642 - val_loss: 0.3575 - val_accuracy: 0.8550\n",
      "Epoch 82/100\n",
      "536/536 [==============================] - 7s 13ms/step - loss: 0.3278 - accuracy: 0.8617 - val_loss: 0.3541 - val_accuracy: 0.8561\n",
      "Epoch 83/100\n",
      "536/536 [==============================] - 7s 13ms/step - loss: 0.3264 - accuracy: 0.8610 - val_loss: 0.3572 - val_accuracy: 0.8535\n",
      "Epoch 84/100\n",
      "536/536 [==============================] - 7s 13ms/step - loss: 0.3269 - accuracy: 0.8632 - val_loss: 0.3562 - val_accuracy: 0.8573\n",
      "Epoch 85/100\n",
      "536/536 [==============================] - 7s 13ms/step - loss: 0.3269 - accuracy: 0.8627 - val_loss: 0.3557 - val_accuracy: 0.8565\n",
      "Epoch 86/100\n",
      "536/536 [==============================] - 7s 13ms/step - loss: 0.3267 - accuracy: 0.8627 - val_loss: 0.3555 - val_accuracy: 0.8561\n",
      "Epoch 87/100\n",
      "536/536 [==============================] - 7s 13ms/step - loss: 0.3263 - accuracy: 0.8614 - val_loss: 0.3552 - val_accuracy: 0.8554\n",
      "Epoch 88/100\n",
      "536/536 [==============================] - 7s 13ms/step - loss: 0.3259 - accuracy: 0.8634 - val_loss: 0.3536 - val_accuracy: 0.8565\n",
      "Epoch 89/100\n",
      "536/536 [==============================] - 7s 13ms/step - loss: 0.3263 - accuracy: 0.8643 - val_loss: 0.3532 - val_accuracy: 0.8580\n",
      "Epoch 90/100\n",
      "536/536 [==============================] - 7s 13ms/step - loss: 0.3257 - accuracy: 0.8612 - val_loss: 0.3542 - val_accuracy: 0.8588\n",
      "Epoch 91/100\n",
      "536/536 [==============================] - 7s 12ms/step - loss: 0.3262 - accuracy: 0.8636 - val_loss: 0.3573 - val_accuracy: 0.8591\n",
      "Epoch 92/100\n",
      "536/536 [==============================] - 7s 13ms/step - loss: 0.3257 - accuracy: 0.8651 - val_loss: 0.3558 - val_accuracy: 0.8557\n",
      "Epoch 93/100\n",
      "536/536 [==============================] - 7s 12ms/step - loss: 0.3252 - accuracy: 0.8625 - val_loss: 0.3542 - val_accuracy: 0.8580\n",
      "Epoch 94/100\n",
      "536/536 [==============================] - 7s 12ms/step - loss: 0.3253 - accuracy: 0.8632 - val_loss: 0.3523 - val_accuracy: 0.8584\n",
      "Epoch 95/100\n",
      "536/536 [==============================] - 7s 13ms/step - loss: 0.3252 - accuracy: 0.8621 - val_loss: 0.3545 - val_accuracy: 0.8588\n",
      "Epoch 96/100\n",
      "536/536 [==============================] - 7s 13ms/step - loss: 0.3252 - accuracy: 0.8619 - val_loss: 0.3537 - val_accuracy: 0.8569\n",
      "Epoch 97/100\n",
      "536/536 [==============================] - 7s 12ms/step - loss: 0.3244 - accuracy: 0.8642 - val_loss: 0.3551 - val_accuracy: 0.8591\n",
      "Epoch 98/100\n",
      "536/536 [==============================] - 7s 12ms/step - loss: 0.3248 - accuracy: 0.8638 - val_loss: 0.3561 - val_accuracy: 0.8554\n",
      "Epoch 99/100\n",
      "536/536 [==============================] - 7s 12ms/step - loss: 0.3246 - accuracy: 0.8630 - val_loss: 0.3537 - val_accuracy: 0.8561\n",
      "Epoch 100/100\n",
      "536/536 [==============================] - 6s 12ms/step - loss: 0.3239 - accuracy: 0.8630 - val_loss: 0.3569 - val_accuracy: 0.8535\n"
     ]
    }
   ],
   "source": [
    "#compling the ANN\n",
    "model.compile(optimizer=\"adam\",loss=\"binary_crossentropy\",metrics=[\"accuracy\"])\n",
    "\n",
    "#Fitting the ANN to the training\n",
    "my_model=model.fit(x_train,y_train,validation_split=0.33,batch_size=10,epochs=100)\n"
   ]
  },
  {
   "cell_type": "code",
   "execution_count": 12,
   "metadata": {},
   "outputs": [
    {
     "name": "stdout",
     "output_type": "stream",
     "text": [
      "dict_keys(['loss', 'accuracy', 'val_loss', 'val_accuracy'])\n"
     ]
    },
    {
     "data": {
      "image/png": "[encoded data removed]",
      "text/plain": [
       "<Figure size 432x288 with 1 Axes>"
      ]
     },
     "metadata": {
      "needs_background": "light"
     },
     "output_type": "display_data"
    }
   ],
   "source": [
    "print(my_model.history.keys())\n",
    "plt.plot(my_model.history[\"accuracy\"])\n",
    "plt.plot(my_model.history[\"val_accuracy\"])\n",
    "plt.title(\"model acuracy\")\n",
    "plt.ylabel('accuracy')\n",
    "plt.xlabel('epochs')\n",
    "plt.legend(['train','test'],loc='upper left')\n",
    "plt.show()"
   ]
  },
  {
   "cell_type": "code",
   "execution_count": 15,
   "metadata": {},
   "outputs": [
    {
     "name": "stdout",
     "output_type": "stream",
     "text": [
      "[[0.42318925]\n",
      " [0.29336533]\n",
      " [0.09150533]\n",
      " ...\n",
      " [0.15862404]\n",
      " [0.181988  ]\n",
      " [0.23986152]]\n",
      "[[False]\n",
      " [False]\n",
      " [False]\n",
      " ...\n",
      " [False]\n",
      " [False]\n",
      " [False]]\n"
     ]
    }
   ],
   "source": [
    "y_pre=model.predict(x_test)\n",
    "print(y_pre)\n",
    "y_pre=(y_pre>0.5)\n",
    "print(y_pre)"
   ]
  },
  {
   "cell_type": "code",
   "execution_count": 16,
   "metadata": {},
   "outputs": [
    {
     "name": "stdout",
     "output_type": "stream",
     "text": [
      "0.8605\n"
     ]
    }
   ],
   "source": [
    "from sklearn.metrics import accuracy_score\n",
    "score=c=accuracy_score(y_pre,y_test)\n",
    "print(score)"
   ]
  },
  {
   "cell_type": "code",
   "execution_count": 17,
   "metadata": {},
   "outputs": [
    {
     "name": "stdout",
     "output_type": "stream",
     "text": [
      "[[1508  192]\n",
      " [  87  213]]\n"
     ]
    }
   ],
   "source": [
    "from sklearn.metrics import confusion_matrix\n",
    "cm=confusion_matrix(y_pre,y_test)\n",
    "print(cm)"
   ]
  }
 ],
 "metadata": {
  "interpreter": {
   "hash": "74037daeb29a4de4d0c5ea845dcc13cd0145320691ad673cd598ddf6be5e6e13"
  },
  "kernelspec": {
   "display_name": "Python 3.8.10 64-bit",
   "language": "python",
   "name": "python3"
  },
  "language_info": {
   "codemirror_mode": {
    "name": "ipython",
    "version": 3
   },
   "file_extension": ".py",
   "mimetype": "text/x-python",
   "name": "python",
   "nbconvert_exporter": "python",
   "pygments_lexer": "ipython3",
   "version": "3.8.10"
  },
  "orig_nbformat": 4
 },
 "nbformat": 4,
 "nbformat_minor": 2
}
